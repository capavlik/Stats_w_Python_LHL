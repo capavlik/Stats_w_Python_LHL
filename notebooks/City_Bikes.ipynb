{
 "cells": [
  {
   "cell_type": "code",
   "execution_count": null,
   "id": "06939bd2-c721-4645-849d-33ea296248d2",
   "metadata": {},
   "outputs": [],
   "source": [
    "import json\n",
    "import pandas as pd\n",
    "import requests\n",
    "import geopy\n",
    "from geopy import distance\n",
    "from geopy.distance import geodesic"
   ]
  },
  {
   "cell_type": "markdown",
   "id": "95a4d71e-a26c-41c6-b98d-6fcfec245f53",
   "metadata": {},
   "source": [
    "# Load json object downlaoded from citybikes api"
   ]
  },
  {
   "cell_type": "markdown",
   "id": "a112a35e-ec1d-4acd-a95f-c86fabf33648",
   "metadata": {},
   "source": [
    "## Investigate the structure of the returned data using .keys()\n",
    "Return the DataFrame that captures the data: empty_slots, free bikes, lat, long, and name."
   ]
  },
  {
   "cell_type": "code",
   "execution_count": null,
   "id": "858fe7f8-1efb-4834-9917-97e5ae1d0218",
   "metadata": {},
   "outputs": [],
   "source": [
    "with open('citybikes-helsinki.json') as f:\n",
    "    bikes = json.load(f)\n",
    "\n",
    "bikes = pd.DataFrame(bikes['network']['stations'])\n",
    "bikes"
   ]
  },
  {
   "cell_type": "markdown",
   "id": "613b067b-50b2-4fb3-9168-01c8574baf4b",
   "metadata": {},
   "source": [
    "### check out some of the characteristics of the returned data"
   ]
  },
  {
   "cell_type": "code",
   "execution_count": null,
   "id": "15f3d70e-d3e1-4520-a7c8-ea7d09dac37e",
   "metadata": {},
   "outputs": [],
   "source": [
    "bikes.describe()"
   ]
  },
  {
   "cell_type": "markdown",
   "id": "b55906c5-5422-45c4-8b1b-37c3ed32c803",
   "metadata": {},
   "source": [
    "This has returned too many results, I won't be able to query this many stations through the yelp api.\n",
    "I will reduce these stations to a radius of 3.5km around the center of Helsinki using lat/long values.\n",
    "According to NASA, helsinki center = lat,long(60.1711,24.9326)."
   ]
  },
  {
   "cell_type": "markdown",
   "id": "96051497-93e0-4750-9566-142a5121ec9d",
   "metadata": {},
   "source": [
    "#### Lets test this formula, as this isn't how it's shown in the documentation, it gets a good result."
   ]
  },
  {
   "cell_type": "code",
   "execution_count": null,
   "id": "c14a86a5-4c56-4d79-b11b-41cdeacf4a04",
   "metadata": {},
   "outputs": [],
   "source": [
    "geopy.distance.distance((60.1711,24.9326), (bikes[\"latitude\"][0],bikes[\"longitude\"][0])).km"
   ]
  },
  {
   "cell_type": "markdown",
   "id": "e6a3f6e5-9586-46ed-8ba1-517442b592b4",
   "metadata": {},
   "source": [
    "### Let's try creating a new variable and populating it with these created values. \n",
    "BUT, the solution below only calculates one value."
   ]
  },
  {
   "cell_type": "code",
   "execution_count": null,
   "id": "3b1ddb64-3524-43ee-a531-1628e4dacd0c",
   "metadata": {},
   "outputs": [],
   "source": [
    "bikes[\"test\"] = (\n",
    "\n",
    "    geopy.distance.distance((60.1711,24.9326),((bikes[\"latitude\"][0]),(bikes[\"longitude\"][0]))).km\n",
    "\n",
    ")\n",
    "bikes"
   ]
  },
  {
   "cell_type": "markdown",
   "id": "047a3561-a2e3-4ac7-8a71-83af49731615",
   "metadata": {},
   "source": [
    "This will calculate along all the rows in the dataset"
   ]
  },
  {
   "cell_type": "code",
   "execution_count": null,
   "id": "a2d719fa-7da0-4574-bd74-398f7b4dc71e",
   "metadata": {},
   "outputs": [],
   "source": [
    "def calculate_distance(row):\n",
    "    coordinate_1 = (60.1711, 24.9326)\n",
    "    coordinate_2 = (row['latitude'], row['longitude'])\n",
    "    return geodesic(coordinate_1, coordinate_2).km"
   ]
  },
  {
   "cell_type": "markdown",
   "id": "765bd1bf-a403-464d-b614-062ee8174753",
   "metadata": {},
   "source": [
    "#### And let's now create that new variable"
   ]
  },
  {
   "cell_type": "code",
   "execution_count": null,
   "id": "b6b72ace-3cf4-4171-ad2c-762c7e262598",
   "metadata": {},
   "outputs": [],
   "source": [
    "bikes[\"distance_from_center\"] = bikes.apply(calculate_distance, axis = 1)"
   ]
  },
  {
   "cell_type": "markdown",
   "id": "50388842-5569-4044-81de-f07c440acdce",
   "metadata": {},
   "source": [
    "#### Now, let's narrow down the stations to those within 3.5km from the center point of Helsinki\n",
    "We've narrowed 583 stations down to a respectable 123. "
   ]
  },
  {
   "cell_type": "code",
   "execution_count": null,
   "id": "e18e661b-5455-480d-9268-950dc68d8ab9",
   "metadata": {},
   "outputs": [],
   "source": [
    "bikes_center = pd.DataFrame(bikes.loc[(bikes['distance_from_center'] <= 3.5)])"
   ]
  },
  {
   "cell_type": "markdown",
   "id": "d8fa473e-3376-4075-bd0b-013c836e6edd",
   "metadata": {},
   "source": [
    "## Let's check and see whether this worked!"
   ]
  },
  {
   "cell_type": "code",
   "execution_count": null,
   "id": "1dfb67aa-8056-4249-94f0-2b3a09950c57",
   "metadata": {},
   "outputs": [],
   "source": [
    "Bikes_center.sort_values('distance_from_center').tail(25)"
   ]
  },
  {
   "cell_type": "markdown",
   "id": "3a4de05a-f73e-4ae6-bb02-dede860c9310",
   "metadata": {},
   "source": [
    "Okay, now that this baby is almost ready to work with, lets clean it up a little. I'll save working with the date, because they're all the same date. I'll keep it for archival, but there's no need to work with it here. \n",
    "Let's drop things we aren't going to use.\n",
    "We're dropping 'extra' = (iud:number), and 'test' = I created, and 'lat_long' = I created."
   ]
  },
  {
   "cell_type": "code",
   "execution_count": null,
   "id": "77c6911e-7f77-473c-b174-52183537fd33",
   "metadata": {},
   "outputs": [],
   "source": [
    "bikes_center.drop(columns='extra',inplace=True)\n",
    "bikes_center.drop(columns='test',inplace=True)\n",
    "bikes_center.drop(columns='lat_long',inplace=True)"
   ]
  },
  {
   "cell_type": "markdown",
   "id": "b83fd87c-8825-4ed5-8e4a-3aa5f748955b",
   "metadata": {},
   "source": [
    "Let's create a new column for the merge to the yelp_restaurants data."
   ]
  },
  {
   "cell_type": "code",
   "execution_count": null,
   "id": "26c33992-beae-45e4-835e-882731c423ed",
   "metadata": {},
   "outputs": [],
   "source": [
    "bikes_center['mergevar'] = 1"
   ]
  },
  {
   "cell_type": "markdown",
   "id": "9df825ad-e6bb-4080-a41f-86e537e8e729",
   "metadata": {},
   "source": [
    "Now, lets save this table as a csv... just in case."
   ]
  },
  {
   "cell_type": "code",
   "execution_count": null,
   "id": "42245f54-b73f-417f-90e0-88f52b304713",
   "metadata": {},
   "outputs": [],
   "source": [
    "bikes_center.to_csv(r'C:\\Users\\ca0pa\\Desktop\\LHL\\Python\\bikes_center.csv', index=False)"
   ]
  },
  {
   "cell_type": "code",
   "execution_count": null,
   "id": "69b85939-4b72-4ba3-8485-3d8fecd6142d",
   "metadata": {},
   "outputs": [],
   "source": []
  },
  {
   "cell_type": "code",
   "execution_count": null,
   "id": "91150cb0-9329-4a00-a03f-f1de17cc4a88",
   "metadata": {},
   "outputs": [],
   "source": []
  },
  {
   "cell_type": "code",
   "execution_count": null,
   "id": "f0f980f2-3b88-41d5-bb00-e0e3966c5592",
   "metadata": {},
   "outputs": [],
   "source": []
  },
  {
   "cell_type": "code",
   "execution_count": null,
   "id": "64ea903c-b6c9-4402-b51b-3fde67c041d8",
   "metadata": {},
   "outputs": [],
   "source": []
  }
 ],
 "metadata": {
  "kernelspec": {
   "display_name": "lhl_env",
   "language": "python",
   "name": "lhl_env"
  },
  "language_info": {
   "codemirror_mode": {
    "name": "ipython",
    "version": 3
   },
   "file_extension": ".py",
   "mimetype": "text/x-python",
   "name": "python",
   "nbconvert_exporter": "python",
   "pygments_lexer": "ipython3",
   "version": "3.11.5"
  }
 },
 "nbformat": 4,
 "nbformat_minor": 5
}
