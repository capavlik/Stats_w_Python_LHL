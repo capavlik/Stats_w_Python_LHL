{
 "cells": [
  {
   "cell_type": "code",
   "execution_count": 1,
   "metadata": {
    "tags": []
   },
   "outputs": [],
   "source": [
    "import pandas as pd\n",
    "import scipy.stats as stats\n",
    "from scipy import stats\n",
    "from scipy.stats import wilcoxon\n",
    "from scipy.stats import ttest_rel\n",
    "import seaborn as sns\n",
    "import matplotlib.pyplot as plt"
   ]
  },
  {
   "cell_type": "markdown",
   "metadata": {},
   "source": [
    "# Wilcoxon Paired T-test"
   ]
  },
  {
   "cell_type": "markdown",
   "metadata": {},
   "source": [
    "Because I created several variables which capture the number of restaurant results observed around each bike station at four\n",
    "different distances, 100m, 250m, 350m, and 500m, I can compare these results between Yelp and FourSquare using paired tests.\n",
    "\n",
    "Because each bike station is related, comparing the results between each station is best done using a paired test. The variables are not normally distributed, so the Wilcoxon is robust to that."
   ]
  },
  {
   "cell_type": "markdown",
   "metadata": {},
   "source": [
    "### Load in the csv data"
   ]
  },
  {
   "cell_type": "code",
   "execution_count": 2,
   "metadata": {
    "tags": []
   },
   "outputs": [
    {
     "data": {
      "text/html": [
       "<div>\n",
       "<style scoped>\n",
       "    .dataframe tbody tr th:only-of-type {\n",
       "        vertical-align: middle;\n",
       "    }\n",
       "\n",
       "    .dataframe tbody tr th {\n",
       "        vertical-align: top;\n",
       "    }\n",
       "\n",
       "    .dataframe thead th {\n",
       "        text-align: right;\n",
       "    }\n",
       "</style>\n",
       "<table border=\"1\" class=\"dataframe\">\n",
       "  <thead>\n",
       "    <tr style=\"text-align: right;\">\n",
       "      <th></th>\n",
       "      <th>empty_slots</th>\n",
       "      <th>free_bikes</th>\n",
       "      <th>stn_id</th>\n",
       "      <th>latitude</th>\n",
       "      <th>longitude</th>\n",
       "      <th>station</th>\n",
       "      <th>timestamp</th>\n",
       "      <th>stn_dist_to_center_km</th>\n",
       "      <th>yelp_250</th>\n",
       "      <th>yelp_350</th>\n",
       "      <th>yelp_500</th>\n",
       "      <th>yelp_100</th>\n",
       "      <th>four_100_y</th>\n",
       "      <th>four_250_y</th>\n",
       "      <th>four_350_y</th>\n",
       "      <th>four_500_y</th>\n",
       "      <th>total_bikes</th>\n",
       "    </tr>\n",
       "  </thead>\n",
       "  <tbody>\n",
       "    <tr>\n",
       "      <th>0</th>\n",
       "      <td>15</td>\n",
       "      <td>23</td>\n",
       "      <td>7f0baf8054547e62f029e717f4f1ea31</td>\n",
       "      <td>60.155445</td>\n",
       "      <td>24.950293</td>\n",
       "      <td>Kaivopuisto</td>\n",
       "      <td>2023-10-18T20:35:03.826000Z</td>\n",
       "      <td>2.001855</td>\n",
       "      <td>0</td>\n",
       "      <td>0</td>\n",
       "      <td>4</td>\n",
       "      <td>0</td>\n",
       "      <td>3</td>\n",
       "      <td>30</td>\n",
       "      <td>67</td>\n",
       "      <td>129</td>\n",
       "      <td>38</td>\n",
       "    </tr>\n",
       "    <tr>\n",
       "      <th>1</th>\n",
       "      <td>10</td>\n",
       "      <td>4</td>\n",
       "      <td>9260e3f88cfd9ede2dacf66685cc9595</td>\n",
       "      <td>60.160959</td>\n",
       "      <td>24.956347</td>\n",
       "      <td>Laivasillankatu</td>\n",
       "      <td>2023-10-18T20:35:03.845000Z</td>\n",
       "      <td>1.736349</td>\n",
       "      <td>0</td>\n",
       "      <td>0</td>\n",
       "      <td>3</td>\n",
       "      <td>0</td>\n",
       "      <td>2</td>\n",
       "      <td>22</td>\n",
       "      <td>44</td>\n",
       "      <td>97</td>\n",
       "      <td>14</td>\n",
       "    </tr>\n",
       "    <tr>\n",
       "      <th>2</th>\n",
       "      <td>4</td>\n",
       "      <td>14</td>\n",
       "      <td>d6df69b46a8a140b89af51eb17c69309</td>\n",
       "      <td>60.158189</td>\n",
       "      <td>24.944927</td>\n",
       "      <td>Kapteeninpuistikko</td>\n",
       "      <td>2023-10-18T20:35:03.861000Z</td>\n",
       "      <td>1.592994</td>\n",
       "      <td>8</td>\n",
       "      <td>13</td>\n",
       "      <td>25</td>\n",
       "      <td>2</td>\n",
       "      <td>6</td>\n",
       "      <td>44</td>\n",
       "      <td>85</td>\n",
       "      <td>184</td>\n",
       "      <td>18</td>\n",
       "    </tr>\n",
       "    <tr>\n",
       "      <th>3</th>\n",
       "      <td>10</td>\n",
       "      <td>6</td>\n",
       "      <td>fc993e236043e904c4d229a3806cb458</td>\n",
       "      <td>60.160986</td>\n",
       "      <td>24.941776</td>\n",
       "      <td>Viiskulma</td>\n",
       "      <td>2023-10-18T20:35:03.867000Z</td>\n",
       "      <td>1.236670</td>\n",
       "      <td>26</td>\n",
       "      <td>43</td>\n",
       "      <td>85</td>\n",
       "      <td>6</td>\n",
       "      <td>22</td>\n",
       "      <td>84</td>\n",
       "      <td>141</td>\n",
       "      <td>310</td>\n",
       "      <td>16</td>\n",
       "    </tr>\n",
       "    <tr>\n",
       "      <th>4</th>\n",
       "      <td>4</td>\n",
       "      <td>35</td>\n",
       "      <td>f21eedaefb3ce200e00b2f5ef79a86ed</td>\n",
       "      <td>60.162225</td>\n",
       "      <td>24.929710</td>\n",
       "      <td>Hietalahdentori</td>\n",
       "      <td>2023-10-18T20:35:03.875000Z</td>\n",
       "      <td>1.001732</td>\n",
       "      <td>23</td>\n",
       "      <td>43</td>\n",
       "      <td>72</td>\n",
       "      <td>8</td>\n",
       "      <td>26</td>\n",
       "      <td>81</td>\n",
       "      <td>153</td>\n",
       "      <td>270</td>\n",
       "      <td>39</td>\n",
       "    </tr>\n",
       "    <tr>\n",
       "      <th>...</th>\n",
       "      <td>...</td>\n",
       "      <td>...</td>\n",
       "      <td>...</td>\n",
       "      <td>...</td>\n",
       "      <td>...</td>\n",
       "      <td>...</td>\n",
       "      <td>...</td>\n",
       "      <td>...</td>\n",
       "      <td>...</td>\n",
       "      <td>...</td>\n",
       "      <td>...</td>\n",
       "      <td>...</td>\n",
       "      <td>...</td>\n",
       "      <td>...</td>\n",
       "      <td>...</td>\n",
       "      <td>...</td>\n",
       "      <td>...</td>\n",
       "    </tr>\n",
       "    <tr>\n",
       "      <th>118</th>\n",
       "      <td>15</td>\n",
       "      <td>1</td>\n",
       "      <td>bab45e7a1ef6f2643a32891f61000063</td>\n",
       "      <td>60.195260</td>\n",
       "      <td>24.900731</td>\n",
       "      <td>Kuusitie</td>\n",
       "      <td>2023-10-18T20:35:04.177000Z</td>\n",
       "      <td>3.220742</td>\n",
       "      <td>2</td>\n",
       "      <td>3</td>\n",
       "      <td>5</td>\n",
       "      <td>1</td>\n",
       "      <td>42</td>\n",
       "      <td>109</td>\n",
       "      <td>151</td>\n",
       "      <td>229</td>\n",
       "      <td>16</td>\n",
       "    </tr>\n",
       "    <tr>\n",
       "      <th>119</th>\n",
       "      <td>19</td>\n",
       "      <td>1</td>\n",
       "      <td>d62d22d4d4915a30713cd15020b182d9</td>\n",
       "      <td>60.188275</td>\n",
       "      <td>24.955976</td>\n",
       "      <td>Kustaankatu</td>\n",
       "      <td>2023-10-18T20:35:04.179000Z</td>\n",
       "      <td>2.311878</td>\n",
       "      <td>27</td>\n",
       "      <td>34</td>\n",
       "      <td>62</td>\n",
       "      <td>9</td>\n",
       "      <td>63</td>\n",
       "      <td>161</td>\n",
       "      <td>212</td>\n",
       "      <td>395</td>\n",
       "      <td>20</td>\n",
       "    </tr>\n",
       "    <tr>\n",
       "      <th>120</th>\n",
       "      <td>10</td>\n",
       "      <td>6</td>\n",
       "      <td>03cd48db7343b62ceeb8c62cefd71334</td>\n",
       "      <td>60.197533</td>\n",
       "      <td>24.899261</td>\n",
       "      <td>Tilkanvierto</td>\n",
       "      <td>2023-10-18T20:35:04.181000Z</td>\n",
       "      <td>3.477867</td>\n",
       "      <td>0</td>\n",
       "      <td>2</td>\n",
       "      <td>3</td>\n",
       "      <td>0</td>\n",
       "      <td>6</td>\n",
       "      <td>55</td>\n",
       "      <td>121</td>\n",
       "      <td>160</td>\n",
       "      <td>16</td>\n",
       "    </tr>\n",
       "    <tr>\n",
       "      <th>121</th>\n",
       "      <td>18</td>\n",
       "      <td>3</td>\n",
       "      <td>f22262af20d637ff4aa72678fb8f7663</td>\n",
       "      <td>60.194448</td>\n",
       "      <td>24.891118</td>\n",
       "      <td>Paciuksenkaari</td>\n",
       "      <td>2023-10-18T20:35:04.186000Z</td>\n",
       "      <td>3.473536</td>\n",
       "      <td>2</td>\n",
       "      <td>2</td>\n",
       "      <td>3</td>\n",
       "      <td>1</td>\n",
       "      <td>1</td>\n",
       "      <td>22</td>\n",
       "      <td>28</td>\n",
       "      <td>103</td>\n",
       "      <td>21</td>\n",
       "    </tr>\n",
       "    <tr>\n",
       "      <th>122</th>\n",
       "      <td>22</td>\n",
       "      <td>0</td>\n",
       "      <td>1e9ee9fdafb05635eb445e3fa8c7b505</td>\n",
       "      <td>60.188399</td>\n",
       "      <td>24.884736</td>\n",
       "      <td>Seurasaari</td>\n",
       "      <td>2023-10-18T20:35:04.186000Z</td>\n",
       "      <td>3.281873</td>\n",
       "      <td>0</td>\n",
       "      <td>0</td>\n",
       "      <td>0</td>\n",
       "      <td>0</td>\n",
       "      <td>0</td>\n",
       "      <td>0</td>\n",
       "      <td>0</td>\n",
       "      <td>3</td>\n",
       "      <td>22</td>\n",
       "    </tr>\n",
       "  </tbody>\n",
       "</table>\n",
       "<p>123 rows × 17 columns</p>\n",
       "</div>"
      ],
      "text/plain": [
       "     empty_slots  free_bikes                            stn_id   latitude  \\\n",
       "0             15          23  7f0baf8054547e62f029e717f4f1ea31  60.155445   \n",
       "1             10           4  9260e3f88cfd9ede2dacf66685cc9595  60.160959   \n",
       "2              4          14  d6df69b46a8a140b89af51eb17c69309  60.158189   \n",
       "3             10           6  fc993e236043e904c4d229a3806cb458  60.160986   \n",
       "4              4          35  f21eedaefb3ce200e00b2f5ef79a86ed  60.162225   \n",
       "..           ...         ...                               ...        ...   \n",
       "118           15           1  bab45e7a1ef6f2643a32891f61000063  60.195260   \n",
       "119           19           1  d62d22d4d4915a30713cd15020b182d9  60.188275   \n",
       "120           10           6  03cd48db7343b62ceeb8c62cefd71334  60.197533   \n",
       "121           18           3  f22262af20d637ff4aa72678fb8f7663  60.194448   \n",
       "122           22           0  1e9ee9fdafb05635eb445e3fa8c7b505  60.188399   \n",
       "\n",
       "     longitude             station                    timestamp  \\\n",
       "0    24.950293         Kaivopuisto  2023-10-18T20:35:03.826000Z   \n",
       "1    24.956347     Laivasillankatu  2023-10-18T20:35:03.845000Z   \n",
       "2    24.944927  Kapteeninpuistikko  2023-10-18T20:35:03.861000Z   \n",
       "3    24.941776           Viiskulma  2023-10-18T20:35:03.867000Z   \n",
       "4    24.929710     Hietalahdentori  2023-10-18T20:35:03.875000Z   \n",
       "..         ...                 ...                          ...   \n",
       "118  24.900731            Kuusitie  2023-10-18T20:35:04.177000Z   \n",
       "119  24.955976         Kustaankatu  2023-10-18T20:35:04.179000Z   \n",
       "120  24.899261        Tilkanvierto  2023-10-18T20:35:04.181000Z   \n",
       "121  24.891118      Paciuksenkaari  2023-10-18T20:35:04.186000Z   \n",
       "122  24.884736          Seurasaari  2023-10-18T20:35:04.186000Z   \n",
       "\n",
       "     stn_dist_to_center_km  yelp_250  yelp_350  yelp_500  yelp_100  \\\n",
       "0                 2.001855         0         0         4         0   \n",
       "1                 1.736349         0         0         3         0   \n",
       "2                 1.592994         8        13        25         2   \n",
       "3                 1.236670        26        43        85         6   \n",
       "4                 1.001732        23        43        72         8   \n",
       "..                     ...       ...       ...       ...       ...   \n",
       "118               3.220742         2         3         5         1   \n",
       "119               2.311878        27        34        62         9   \n",
       "120               3.477867         0         2         3         0   \n",
       "121               3.473536         2         2         3         1   \n",
       "122               3.281873         0         0         0         0   \n",
       "\n",
       "     four_100_y  four_250_y  four_350_y  four_500_y  total_bikes  \n",
       "0             3          30          67         129           38  \n",
       "1             2          22          44          97           14  \n",
       "2             6          44          85         184           18  \n",
       "3            22          84         141         310           16  \n",
       "4            26          81         153         270           39  \n",
       "..          ...         ...         ...         ...          ...  \n",
       "118          42         109         151         229           16  \n",
       "119          63         161         212         395           20  \n",
       "120           6          55         121         160           16  \n",
       "121           1          22          28         103           21  \n",
       "122           0           0           0           3           22  \n",
       "\n",
       "[123 rows x 17 columns]"
      ]
     },
     "execution_count": 2,
     "metadata": {},
     "output_type": "execute_result"
    }
   ],
   "source": [
    "Helsinki_bikestation = pd.read_csv('Helsinki_bikestation.csv')\n",
    "Helsinki_bikestation"
   ]
  },
  {
   "cell_type": "markdown",
   "metadata": {},
   "source": [
    "#### Create some datasets with a variety of different data included:"
   ]
  },
  {
   "cell_type": "code",
   "execution_count": 3,
   "metadata": {
    "tags": []
   },
   "outputs": [],
   "source": [
    "Helsinki_numeric = Helsinki_bikestation[['empty_slots','total_bikes','stn_dist_to_center_km','four_100_y','yelp_100','four_250_y',\n",
    "                                         'yelp_250','four_350_y','yelp_350','four_500_y','yelp_500']]"
   ]
  },
  {
   "cell_type": "code",
   "execution_count": 4,
   "metadata": {
    "tags": []
   },
   "outputs": [],
   "source": [
    "Helsinki_yelpfour_bydist = Helsinki_bikestation[['stn_dist_to_center_km','four_100_y','yelp_100','four_250_y','yelp_250',\n",
    "                                       'four_350_y','yelp_350','four_500_y','yelp_500']]"
   ]
  },
  {
   "cell_type": "markdown",
   "metadata": {},
   "source": [
    "Sort this last one by stn_dist_to_center_km to help with some visualizations I put in the EDA process"
   ]
  },
  {
   "cell_type": "code",
   "execution_count": 5,
   "metadata": {
    "tags": []
   },
   "outputs": [
    {
     "data": {
      "text/html": [
       "<div>\n",
       "<style scoped>\n",
       "    .dataframe tbody tr th:only-of-type {\n",
       "        vertical-align: middle;\n",
       "    }\n",
       "\n",
       "    .dataframe tbody tr th {\n",
       "        vertical-align: top;\n",
       "    }\n",
       "\n",
       "    .dataframe thead th {\n",
       "        text-align: right;\n",
       "    }\n",
       "</style>\n",
       "<table border=\"1\" class=\"dataframe\">\n",
       "  <thead>\n",
       "    <tr style=\"text-align: right;\">\n",
       "      <th></th>\n",
       "      <th>stn_dist_to_center_km</th>\n",
       "      <th>four_100_y</th>\n",
       "      <th>yelp_100</th>\n",
       "      <th>four_250_y</th>\n",
       "      <th>yelp_250</th>\n",
       "      <th>four_350_y</th>\n",
       "      <th>yelp_350</th>\n",
       "      <th>four_500_y</th>\n",
       "      <th>yelp_500</th>\n",
       "    </tr>\n",
       "  </thead>\n",
       "  <tbody>\n",
       "    <tr>\n",
       "      <th>26</th>\n",
       "      <td>0.048506</td>\n",
       "      <td>53</td>\n",
       "      <td>4</td>\n",
       "      <td>180</td>\n",
       "      <td>20</td>\n",
       "      <td>364</td>\n",
       "      <td>70</td>\n",
       "      <td>560</td>\n",
       "      <td>140</td>\n",
       "    </tr>\n",
       "    <tr>\n",
       "      <th>22</th>\n",
       "      <td>0.162194</td>\n",
       "      <td>66</td>\n",
       "      <td>13</td>\n",
       "      <td>232</td>\n",
       "      <td>77</td>\n",
       "      <td>395</td>\n",
       "      <td>131</td>\n",
       "      <td>661</td>\n",
       "      <td>228</td>\n",
       "    </tr>\n",
       "    <tr>\n",
       "      <th>20</th>\n",
       "      <td>0.250876</td>\n",
       "      <td>57</td>\n",
       "      <td>2</td>\n",
       "      <td>193</td>\n",
       "      <td>46</td>\n",
       "      <td>356</td>\n",
       "      <td>108</td>\n",
       "      <td>670</td>\n",
       "      <td>208</td>\n",
       "    </tr>\n",
       "    <tr>\n",
       "      <th>64</th>\n",
       "      <td>0.278321</td>\n",
       "      <td>52</td>\n",
       "      <td>14</td>\n",
       "      <td>179</td>\n",
       "      <td>61</td>\n",
       "      <td>320</td>\n",
       "      <td>104</td>\n",
       "      <td>561</td>\n",
       "      <td>182</td>\n",
       "    </tr>\n",
       "    <tr>\n",
       "      <th>28</th>\n",
       "      <td>0.319828</td>\n",
       "      <td>30</td>\n",
       "      <td>7</td>\n",
       "      <td>96</td>\n",
       "      <td>12</td>\n",
       "      <td>226</td>\n",
       "      <td>21</td>\n",
       "      <td>418</td>\n",
       "      <td>53</td>\n",
       "    </tr>\n",
       "    <tr>\n",
       "      <th>...</th>\n",
       "      <td>...</td>\n",
       "      <td>...</td>\n",
       "      <td>...</td>\n",
       "      <td>...</td>\n",
       "      <td>...</td>\n",
       "      <td>...</td>\n",
       "      <td>...</td>\n",
       "      <td>...</td>\n",
       "      <td>...</td>\n",
       "    </tr>\n",
       "    <tr>\n",
       "      <th>109</th>\n",
       "      <td>3.347373</td>\n",
       "      <td>13</td>\n",
       "      <td>0</td>\n",
       "      <td>56</td>\n",
       "      <td>3</td>\n",
       "      <td>77</td>\n",
       "      <td>5</td>\n",
       "      <td>146</td>\n",
       "      <td>18</td>\n",
       "    </tr>\n",
       "    <tr>\n",
       "      <th>88</th>\n",
       "      <td>3.380350</td>\n",
       "      <td>3</td>\n",
       "      <td>0</td>\n",
       "      <td>32</td>\n",
       "      <td>5</td>\n",
       "      <td>131</td>\n",
       "      <td>7</td>\n",
       "      <td>249</td>\n",
       "      <td>9</td>\n",
       "    </tr>\n",
       "    <tr>\n",
       "      <th>110</th>\n",
       "      <td>3.398088</td>\n",
       "      <td>6</td>\n",
       "      <td>0</td>\n",
       "      <td>24</td>\n",
       "      <td>0</td>\n",
       "      <td>57</td>\n",
       "      <td>1</td>\n",
       "      <td>127</td>\n",
       "      <td>7</td>\n",
       "    </tr>\n",
       "    <tr>\n",
       "      <th>121</th>\n",
       "      <td>3.473536</td>\n",
       "      <td>1</td>\n",
       "      <td>1</td>\n",
       "      <td>22</td>\n",
       "      <td>2</td>\n",
       "      <td>28</td>\n",
       "      <td>2</td>\n",
       "      <td>103</td>\n",
       "      <td>3</td>\n",
       "    </tr>\n",
       "    <tr>\n",
       "      <th>120</th>\n",
       "      <td>3.477867</td>\n",
       "      <td>6</td>\n",
       "      <td>0</td>\n",
       "      <td>55</td>\n",
       "      <td>0</td>\n",
       "      <td>121</td>\n",
       "      <td>2</td>\n",
       "      <td>160</td>\n",
       "      <td>3</td>\n",
       "    </tr>\n",
       "  </tbody>\n",
       "</table>\n",
       "<p>123 rows × 9 columns</p>\n",
       "</div>"
      ],
      "text/plain": [
       "     stn_dist_to_center_km  four_100_y  yelp_100  four_250_y  yelp_250  \\\n",
       "26                0.048506          53         4         180        20   \n",
       "22                0.162194          66        13         232        77   \n",
       "20                0.250876          57         2         193        46   \n",
       "64                0.278321          52        14         179        61   \n",
       "28                0.319828          30         7          96        12   \n",
       "..                     ...         ...       ...         ...       ...   \n",
       "109               3.347373          13         0          56         3   \n",
       "88                3.380350           3         0          32         5   \n",
       "110               3.398088           6         0          24         0   \n",
       "121               3.473536           1         1          22         2   \n",
       "120               3.477867           6         0          55         0   \n",
       "\n",
       "     four_350_y  yelp_350  four_500_y  yelp_500  \n",
       "26          364        70         560       140  \n",
       "22          395       131         661       228  \n",
       "20          356       108         670       208  \n",
       "64          320       104         561       182  \n",
       "28          226        21         418        53  \n",
       "..          ...       ...         ...       ...  \n",
       "109          77         5         146        18  \n",
       "88          131         7         249         9  \n",
       "110          57         1         127         7  \n",
       "121          28         2         103         3  \n",
       "120         121         2         160         3  \n",
       "\n",
       "[123 rows x 9 columns]"
      ]
     },
     "execution_count": 5,
     "metadata": {},
     "output_type": "execute_result"
    }
   ],
   "source": [
    "exp_plot = Helsinki_yelpfour_bydist.sort_values(by=\"stn_dist_to_center_km\")\n",
    "exp_plot"
   ]
  },
  {
   "cell_type": "markdown",
   "metadata": {},
   "source": [
    "And then pair this down to just the yelp and foursquare data for the Wilcoxon tests"
   ]
  },
  {
   "cell_type": "code",
   "execution_count": 6,
   "metadata": {
    "tags": []
   },
   "outputs": [],
   "source": [
    "exp3 = exp_plot[['four_100_y','yelp_100','four_250_y','yelp_250',\n",
    "                                       'four_350_y','yelp_350','four_500_y','yelp_500']]"
   ]
  },
  {
   "cell_type": "markdown",
   "metadata": {},
   "source": [
    "## The data is not normal:"
   ]
  },
  {
   "cell_type": "code",
   "execution_count": 7,
   "metadata": {
    "tags": []
   },
   "outputs": [
    {
     "data": {
      "image/png": "[encoded data removed]",
      "text/plain": [
       "<Figure size 2000x1000 with 9 Axes>"
      ]
     },
     "metadata": {},
     "output_type": "display_data"
    },
    {
     "data": {
      "text/plain": [
       "<Figure size 640x480 with 0 Axes>"
      ]
     },
     "metadata": {},
     "output_type": "display_data"
    }
   ],
   "source": [
    "exp_plot.hist(bins=30,figsize=(20, 10))\n",
    "plt.tight_layout()\n",
    "plt.show()\n",
    "plt.savefig('eda_histograms.png')"
   ]
  },
  {
   "cell_type": "code",
   "execution_count": 8,
   "metadata": {
    "tags": []
   },
   "outputs": [
    {
     "name": "stdout",
     "output_type": "stream",
     "text": [
      "0.000830990029498934745788574219\n",
      "0.000022968990379013121128082275\n",
      "0.000013498670341505203396081924\n"
     ]
    }
   ],
   "source": [
    "stat, p = stats.shapiro(Helsinki_bikestation['stn_dist_to_center_km'])\n",
    "print('%0.30f' % p)\n",
    "stat, p = stats.shapiro(Helsinki_bikestation['empty_slots'])\n",
    "print('%0.30f' % p)\n",
    "stat, p = stats.shapiro(Helsinki_bikestation['four_500_y'])\n",
    "print('%0.30f' % p)\n"
   ]
  },
  {
   "cell_type": "markdown",
   "metadata": {},
   "source": [
    "## First use traditional paired t-tests"
   ]
  },
  {
   "cell_type": "code",
   "execution_count": 9,
   "metadata": {
    "tags": []
   },
   "outputs": [
    {
     "data": {
      "text/plain": [
       "TtestResult(statistic=10.36644217650265, pvalue=1.91941597843672e-18, df=122)"
      ]
     },
     "execution_count": 9,
     "metadata": {},
     "output_type": "execute_result"
    }
   ],
   "source": [
    "#define samples\n",
    "group1 = Helsinki_bikestation['four_100_y']\n",
    "group2 = Helsinki_bikestation['yelp_100']\n",
    "\n",
    "#perform independent two sample t-test\n",
    "ttest_rel(group1, group2)"
   ]
  },
  {
   "cell_type": "code",
   "execution_count": 10,
   "metadata": {
    "tags": []
   },
   "outputs": [
    {
     "data": {
      "text/plain": [
       "TtestResult(statistic=17.70454831978005, pvalue=1.6617019366041154e-35, df=122)"
      ]
     },
     "execution_count": 10,
     "metadata": {},
     "output_type": "execute_result"
    }
   ],
   "source": [
    "#define samples\n",
    "group1 = Helsinki_bikestation['four_250_y']\n",
    "group2 = Helsinki_bikestation['yelp_250']\n",
    "\n",
    "#perform independent two sample t-test\n",
    "ttest_rel(group1, group2)"
   ]
  },
  {
   "cell_type": "code",
   "execution_count": 11,
   "metadata": {
    "tags": []
   },
   "outputs": [
    {
     "data": {
      "text/plain": [
       "TtestResult(statistic=22.68383815030334, pvalue=1.3713248315535227e-45, df=122)"
      ]
     },
     "execution_count": 11,
     "metadata": {},
     "output_type": "execute_result"
    }
   ],
   "source": [
    "#define samples\n",
    "group1 = Helsinki_bikestation['four_350_y']\n",
    "group2 = Helsinki_bikestation['yelp_350']\n",
    "\n",
    "#perform independent two sample t-test\n",
    "ttest_rel(group1, group2)"
   ]
  },
  {
   "cell_type": "code",
   "execution_count": 12,
   "metadata": {
    "tags": []
   },
   "outputs": [
    {
     "data": {
      "text/plain": [
       "TtestResult(statistic=26.168052881382412, pvalue=7.065865090770815e-52, df=122)"
      ]
     },
     "execution_count": 12,
     "metadata": {},
     "output_type": "execute_result"
    }
   ],
   "source": [
    "#define samples\n",
    "group1 = Helsinki_bikestation['four_500_y']\n",
    "group2 = Helsinki_bikestation['yelp_500']\n",
    "\n",
    "#perform independent two sample t-test\n",
    "ttest_rel(group1, group2)"
   ]
  },
  {
   "cell_type": "markdown",
   "metadata": {},
   "source": [
    "All of these results indicate that there is a significant difference between the data gathered by Yelp and FourSquare, but just to be\n",
    "sure, we can further perform the Wilcoxon test for non-normal data. Another alternative would be to transform the data to make it more\n",
    "conform to a normal distribution, but if we're already getting significance with our nonparametric tests, we need not."
   ]
  },
  {
   "cell_type": "markdown",
   "metadata": {},
   "source": [
    "## Wilcoxon paired t-test"
   ]
  },
  {
   "cell_type": "code",
   "execution_count": 13,
   "metadata": {
    "tags": []
   },
   "outputs": [
    {
     "data": {
      "text/html": [
       "<div>\n",
       "<style scoped>\n",
       "    .dataframe tbody tr th:only-of-type {\n",
       "        vertical-align: middle;\n",
       "    }\n",
       "\n",
       "    .dataframe tbody tr th {\n",
       "        vertical-align: top;\n",
       "    }\n",
       "\n",
       "    .dataframe thead th {\n",
       "        text-align: right;\n",
       "    }\n",
       "</style>\n",
       "<table border=\"1\" class=\"dataframe\">\n",
       "  <thead>\n",
       "    <tr style=\"text-align: right;\">\n",
       "      <th></th>\n",
       "      <th>four_100_y</th>\n",
       "      <th>yelp_100</th>\n",
       "      <th>four_250_y</th>\n",
       "      <th>yelp_250</th>\n",
       "      <th>four_350_y</th>\n",
       "      <th>yelp_350</th>\n",
       "      <th>four_500_y</th>\n",
       "      <th>yelp_500</th>\n",
       "      <th>D_100</th>\n",
       "      <th>D_250</th>\n",
       "      <th>D_350</th>\n",
       "      <th>D_500</th>\n",
       "    </tr>\n",
       "  </thead>\n",
       "  <tbody>\n",
       "    <tr>\n",
       "      <th>0</th>\n",
       "      <td>3</td>\n",
       "      <td>0</td>\n",
       "      <td>30</td>\n",
       "      <td>0</td>\n",
       "      <td>67</td>\n",
       "      <td>0</td>\n",
       "      <td>129</td>\n",
       "      <td>4</td>\n",
       "      <td>3</td>\n",
       "      <td>30</td>\n",
       "      <td>67</td>\n",
       "      <td>125</td>\n",
       "    </tr>\n",
       "    <tr>\n",
       "      <th>1</th>\n",
       "      <td>2</td>\n",
       "      <td>0</td>\n",
       "      <td>22</td>\n",
       "      <td>0</td>\n",
       "      <td>44</td>\n",
       "      <td>0</td>\n",
       "      <td>97</td>\n",
       "      <td>3</td>\n",
       "      <td>2</td>\n",
       "      <td>22</td>\n",
       "      <td>44</td>\n",
       "      <td>94</td>\n",
       "    </tr>\n",
       "    <tr>\n",
       "      <th>2</th>\n",
       "      <td>6</td>\n",
       "      <td>2</td>\n",
       "      <td>44</td>\n",
       "      <td>8</td>\n",
       "      <td>85</td>\n",
       "      <td>13</td>\n",
       "      <td>184</td>\n",
       "      <td>25</td>\n",
       "      <td>4</td>\n",
       "      <td>36</td>\n",
       "      <td>72</td>\n",
       "      <td>159</td>\n",
       "    </tr>\n",
       "    <tr>\n",
       "      <th>3</th>\n",
       "      <td>22</td>\n",
       "      <td>6</td>\n",
       "      <td>84</td>\n",
       "      <td>26</td>\n",
       "      <td>141</td>\n",
       "      <td>43</td>\n",
       "      <td>310</td>\n",
       "      <td>85</td>\n",
       "      <td>16</td>\n",
       "      <td>58</td>\n",
       "      <td>98</td>\n",
       "      <td>225</td>\n",
       "    </tr>\n",
       "    <tr>\n",
       "      <th>4</th>\n",
       "      <td>26</td>\n",
       "      <td>8</td>\n",
       "      <td>81</td>\n",
       "      <td>23</td>\n",
       "      <td>153</td>\n",
       "      <td>43</td>\n",
       "      <td>270</td>\n",
       "      <td>72</td>\n",
       "      <td>18</td>\n",
       "      <td>58</td>\n",
       "      <td>110</td>\n",
       "      <td>198</td>\n",
       "    </tr>\n",
       "    <tr>\n",
       "      <th>...</th>\n",
       "      <td>...</td>\n",
       "      <td>...</td>\n",
       "      <td>...</td>\n",
       "      <td>...</td>\n",
       "      <td>...</td>\n",
       "      <td>...</td>\n",
       "      <td>...</td>\n",
       "      <td>...</td>\n",
       "      <td>...</td>\n",
       "      <td>...</td>\n",
       "      <td>...</td>\n",
       "      <td>...</td>\n",
       "    </tr>\n",
       "    <tr>\n",
       "      <th>118</th>\n",
       "      <td>42</td>\n",
       "      <td>1</td>\n",
       "      <td>109</td>\n",
       "      <td>2</td>\n",
       "      <td>151</td>\n",
       "      <td>3</td>\n",
       "      <td>229</td>\n",
       "      <td>5</td>\n",
       "      <td>41</td>\n",
       "      <td>107</td>\n",
       "      <td>148</td>\n",
       "      <td>224</td>\n",
       "    </tr>\n",
       "    <tr>\n",
       "      <th>119</th>\n",
       "      <td>63</td>\n",
       "      <td>9</td>\n",
       "      <td>161</td>\n",
       "      <td>27</td>\n",
       "      <td>212</td>\n",
       "      <td>34</td>\n",
       "      <td>395</td>\n",
       "      <td>62</td>\n",
       "      <td>54</td>\n",
       "      <td>134</td>\n",
       "      <td>178</td>\n",
       "      <td>333</td>\n",
       "    </tr>\n",
       "    <tr>\n",
       "      <th>120</th>\n",
       "      <td>6</td>\n",
       "      <td>0</td>\n",
       "      <td>55</td>\n",
       "      <td>0</td>\n",
       "      <td>121</td>\n",
       "      <td>2</td>\n",
       "      <td>160</td>\n",
       "      <td>3</td>\n",
       "      <td>6</td>\n",
       "      <td>55</td>\n",
       "      <td>119</td>\n",
       "      <td>157</td>\n",
       "    </tr>\n",
       "    <tr>\n",
       "      <th>121</th>\n",
       "      <td>1</td>\n",
       "      <td>1</td>\n",
       "      <td>22</td>\n",
       "      <td>2</td>\n",
       "      <td>28</td>\n",
       "      <td>2</td>\n",
       "      <td>103</td>\n",
       "      <td>3</td>\n",
       "      <td>0</td>\n",
       "      <td>20</td>\n",
       "      <td>26</td>\n",
       "      <td>100</td>\n",
       "    </tr>\n",
       "    <tr>\n",
       "      <th>122</th>\n",
       "      <td>0</td>\n",
       "      <td>0</td>\n",
       "      <td>0</td>\n",
       "      <td>0</td>\n",
       "      <td>0</td>\n",
       "      <td>0</td>\n",
       "      <td>3</td>\n",
       "      <td>0</td>\n",
       "      <td>0</td>\n",
       "      <td>0</td>\n",
       "      <td>0</td>\n",
       "      <td>3</td>\n",
       "    </tr>\n",
       "  </tbody>\n",
       "</table>\n",
       "<p>123 rows × 12 columns</p>\n",
       "</div>"
      ],
      "text/plain": [
       "     four_100_y  yelp_100  four_250_y  yelp_250  four_350_y  yelp_350  \\\n",
       "0             3         0          30         0          67         0   \n",
       "1             2         0          22         0          44         0   \n",
       "2             6         2          44         8          85        13   \n",
       "3            22         6          84        26         141        43   \n",
       "4            26         8          81        23         153        43   \n",
       "..          ...       ...         ...       ...         ...       ...   \n",
       "118          42         1         109         2         151         3   \n",
       "119          63         9         161        27         212        34   \n",
       "120           6         0          55         0         121         2   \n",
       "121           1         1          22         2          28         2   \n",
       "122           0         0           0         0           0         0   \n",
       "\n",
       "     four_500_y  yelp_500  D_100  D_250  D_350  D_500  \n",
       "0           129         4      3     30     67    125  \n",
       "1            97         3      2     22     44     94  \n",
       "2           184        25      4     36     72    159  \n",
       "3           310        85     16     58     98    225  \n",
       "4           270        72     18     58    110    198  \n",
       "..          ...       ...    ...    ...    ...    ...  \n",
       "118         229         5     41    107    148    224  \n",
       "119         395        62     54    134    178    333  \n",
       "120         160         3      6     55    119    157  \n",
       "121         103         3      0     20     26    100  \n",
       "122           3         0      0      0      0      3  \n",
       "\n",
       "[123 rows x 12 columns]"
      ]
     },
     "execution_count": 13,
     "metadata": {},
     "output_type": "execute_result"
    }
   ],
   "source": [
    "Wilcoxin = pd.DataFrame(Helsinki_bikestation[['four_100_y','yelp_100','four_250_y','yelp_250',\n",
    "                                       'four_350_y','yelp_350','four_500_y','yelp_500']])\n",
    "Wilcoxin['D_100'] = Wilcoxin['four_100_y'] - Wilcoxin['yelp_100']\n",
    "Wilcoxin['D_250'] = Wilcoxin['four_250_y'] - Wilcoxin['yelp_250']\n",
    "Wilcoxin['D_350'] = Wilcoxin['four_350_y'] - Wilcoxin['yelp_350']\n",
    "Wilcoxin['D_500'] = Wilcoxin['four_500_y'] - Wilcoxin['yelp_500']\n",
    "Wilcoxin"
   ]
  },
  {
   "cell_type": "code",
   "execution_count": 14,
   "metadata": {
    "tags": []
   },
   "outputs": [
    {
     "data": {
      "text/plain": [
       "WilcoxonResult(statistic=84.5, pvalue=5.1498587644212393e-20)"
      ]
     },
     "execution_count": 14,
     "metadata": {},
     "output_type": "execute_result"
    }
   ],
   "source": [
    "group1 = Wilcoxin['four_100_y']\n",
    "group2 = Wilcoxin['yelp_100']\n",
    " \n",
    "# conduct the Wilcoxon-Signed Rank Test\n",
    "stats.wilcoxon(group1, group2)"
   ]
  },
  {
   "cell_type": "code",
   "execution_count": 15,
   "metadata": {
    "tags": []
   },
   "outputs": [
    {
     "data": {
      "text/plain": [
       "WilcoxonResult(statistic=2.0, pvalue=9.683409979049336e-22)"
      ]
     },
     "execution_count": 15,
     "metadata": {},
     "output_type": "execute_result"
    }
   ],
   "source": [
    "group1 = Wilcoxin['four_250_y']\n",
    "group2 = Wilcoxin['yelp_250']\n",
    "# conduct the Wilcoxon-Signed Rank Test\n",
    "stats.wilcoxon(group1, group2)"
   ]
  },
  {
   "cell_type": "code",
   "execution_count": 16,
   "metadata": {
    "tags": []
   },
   "outputs": [
    {
     "data": {
      "text/plain": [
       "WilcoxonResult(statistic=0.0, pvalue=9.227708448458534e-22)"
      ]
     },
     "execution_count": 16,
     "metadata": {},
     "output_type": "execute_result"
    }
   ],
   "source": [
    "group1 = Wilcoxin['four_350_y']\n",
    "group2 = Wilcoxin['yelp_350']\n",
    "# conduct the Wilcoxon-Signed Rank Test\n",
    "stats.wilcoxon(group1, group2)"
   ]
  },
  {
   "cell_type": "code",
   "execution_count": 17,
   "metadata": {
    "tags": []
   },
   "outputs": [
    {
     "data": {
      "text/plain": [
       "WilcoxonResult(statistic=0.0, pvalue=6.31935579070063e-22)"
      ]
     },
     "execution_count": 17,
     "metadata": {},
     "output_type": "execute_result"
    }
   ],
   "source": [
    "group1 = Wilcoxin['four_500_y']\n",
    "group2 = Wilcoxin['yelp_500']\n",
    "# conduct the Wilcoxon-Signed Rank Test\n",
    "stats.wilcoxon(group1, group2)"
   ]
  },
  {
   "cell_type": "code",
   "execution_count": 18,
   "metadata": {
    "tags": []
   },
   "outputs": [
    {
     "data": {
      "image/png": "[encoded data removed]",
      "text/plain": [
       "<Figure size 640x480 with 1 Axes>"
      ]
     },
     "metadata": {},
     "output_type": "display_data"
    }
   ],
   "source": [
    "exp3.boxplot(grid=False)\n",
    "plt.xticks(rotation=90)\n",
    "plt.savefig('eda_boxplot.png')"
   ]
  },
  {
   "cell_type": "markdown",
   "metadata": {},
   "source": [
    "Build a regression model."
   ]
  },
  {
   "cell_type": "code",
   "execution_count": 23,
   "metadata": {
    "tags": []
   },
   "outputs": [],
   "source": [
    "import statsmodels.api as sm\n",
    "import statsmodels.formula.api as smf\n",
    "from sklearn import linear_model, datasets"
   ]
  },
  {
   "cell_type": "code",
   "execution_count": 26,
   "metadata": {
    "tags": []
   },
   "outputs": [
    {
     "data": {
      "text/html": [
       "<div>\n",
       "<style scoped>\n",
       "    .dataframe tbody tr th:only-of-type {\n",
       "        vertical-align: middle;\n",
       "    }\n",
       "\n",
       "    .dataframe tbody tr th {\n",
       "        vertical-align: top;\n",
       "    }\n",
       "\n",
       "    .dataframe thead th {\n",
       "        text-align: right;\n",
       "    }\n",
       "</style>\n",
       "<table border=\"1\" class=\"dataframe\">\n",
       "  <thead>\n",
       "    <tr style=\"text-align: right;\">\n",
       "      <th></th>\n",
       "      <th>empty_slots</th>\n",
       "      <th>free_bikes</th>\n",
       "      <th>stn_id</th>\n",
       "      <th>latitude</th>\n",
       "      <th>longitude</th>\n",
       "      <th>station</th>\n",
       "      <th>timestamp</th>\n",
       "      <th>stn_dist_to_center_km</th>\n",
       "      <th>yelp_250</th>\n",
       "      <th>yelp_350</th>\n",
       "      <th>yelp_500</th>\n",
       "      <th>yelp_100</th>\n",
       "      <th>four_100_y</th>\n",
       "      <th>four_250_y</th>\n",
       "      <th>four_350_y</th>\n",
       "      <th>four_500_y</th>\n",
       "      <th>total_bikes</th>\n",
       "    </tr>\n",
       "  </thead>\n",
       "  <tbody>\n",
       "    <tr>\n",
       "      <th>0</th>\n",
       "      <td>15</td>\n",
       "      <td>23</td>\n",
       "      <td>7f0baf8054547e62f029e717f4f1ea31</td>\n",
       "      <td>60.155445</td>\n",
       "      <td>24.950293</td>\n",
       "      <td>Kaivopuisto</td>\n",
       "      <td>2023-10-18T20:35:03.826000Z</td>\n",
       "      <td>2.001855</td>\n",
       "      <td>0</td>\n",
       "      <td>0</td>\n",
       "      <td>4</td>\n",
       "      <td>0</td>\n",
       "      <td>3</td>\n",
       "      <td>30</td>\n",
       "      <td>67</td>\n",
       "      <td>129</td>\n",
       "      <td>38</td>\n",
       "    </tr>\n",
       "    <tr>\n",
       "      <th>1</th>\n",
       "      <td>10</td>\n",
       "      <td>4</td>\n",
       "      <td>9260e3f88cfd9ede2dacf66685cc9595</td>\n",
       "      <td>60.160959</td>\n",
       "      <td>24.956347</td>\n",
       "      <td>Laivasillankatu</td>\n",
       "      <td>2023-10-18T20:35:03.845000Z</td>\n",
       "      <td>1.736349</td>\n",
       "      <td>0</td>\n",
       "      <td>0</td>\n",
       "      <td>3</td>\n",
       "      <td>0</td>\n",
       "      <td>2</td>\n",
       "      <td>22</td>\n",
       "      <td>44</td>\n",
       "      <td>97</td>\n",
       "      <td>14</td>\n",
       "    </tr>\n",
       "    <tr>\n",
       "      <th>2</th>\n",
       "      <td>4</td>\n",
       "      <td>14</td>\n",
       "      <td>d6df69b46a8a140b89af51eb17c69309</td>\n",
       "      <td>60.158189</td>\n",
       "      <td>24.944927</td>\n",
       "      <td>Kapteeninpuistikko</td>\n",
       "      <td>2023-10-18T20:35:03.861000Z</td>\n",
       "      <td>1.592994</td>\n",
       "      <td>8</td>\n",
       "      <td>13</td>\n",
       "      <td>25</td>\n",
       "      <td>2</td>\n",
       "      <td>6</td>\n",
       "      <td>44</td>\n",
       "      <td>85</td>\n",
       "      <td>184</td>\n",
       "      <td>18</td>\n",
       "    </tr>\n",
       "    <tr>\n",
       "      <th>3</th>\n",
       "      <td>10</td>\n",
       "      <td>6</td>\n",
       "      <td>fc993e236043e904c4d229a3806cb458</td>\n",
       "      <td>60.160986</td>\n",
       "      <td>24.941776</td>\n",
       "      <td>Viiskulma</td>\n",
       "      <td>2023-10-18T20:35:03.867000Z</td>\n",
       "      <td>1.236670</td>\n",
       "      <td>26</td>\n",
       "      <td>43</td>\n",
       "      <td>85</td>\n",
       "      <td>6</td>\n",
       "      <td>22</td>\n",
       "      <td>84</td>\n",
       "      <td>141</td>\n",
       "      <td>310</td>\n",
       "      <td>16</td>\n",
       "    </tr>\n",
       "  </tbody>\n",
       "</table>\n",
       "</div>"
      ],
      "text/plain": [
       "   empty_slots  free_bikes                            stn_id   latitude  \\\n",
       "0           15          23  7f0baf8054547e62f029e717f4f1ea31  60.155445   \n",
       "1           10           4  9260e3f88cfd9ede2dacf66685cc9595  60.160959   \n",
       "2            4          14  d6df69b46a8a140b89af51eb17c69309  60.158189   \n",
       "3           10           6  fc993e236043e904c4d229a3806cb458  60.160986   \n",
       "\n",
       "   longitude             station                    timestamp  \\\n",
       "0  24.950293         Kaivopuisto  2023-10-18T20:35:03.826000Z   \n",
       "1  24.956347     Laivasillankatu  2023-10-18T20:35:03.845000Z   \n",
       "2  24.944927  Kapteeninpuistikko  2023-10-18T20:35:03.861000Z   \n",
       "3  24.941776           Viiskulma  2023-10-18T20:35:03.867000Z   \n",
       "\n",
       "   stn_dist_to_center_km  yelp_250  yelp_350  yelp_500  yelp_100  four_100_y  \\\n",
       "0               2.001855         0         0         4         0           3   \n",
       "1               1.736349         0         0         3         0           2   \n",
       "2               1.592994         8        13        25         2           6   \n",
       "3               1.236670        26        43        85         6          22   \n",
       "\n",
       "   four_250_y  four_350_y  four_500_y  total_bikes  \n",
       "0          30          67         129           38  \n",
       "1          22          44          97           14  \n",
       "2          44          85         184           18  \n",
       "3          84         141         310           16  "
      ]
     },
     "execution_count": 26,
     "metadata": {},
     "output_type": "execute_result"
    }
   ],
   "source": [
    "Helsinki_bikestation.head(4)"
   ]
  },
  {
   "cell_type": "markdown",
   "metadata": {},
   "source": [
    "We need to tell the model where our x and y is located"
   ]
  },
  {
   "cell_type": "code",
   "execution_count": 31,
   "metadata": {
    "tags": []
   },
   "outputs": [
    {
     "data": {
      "text/html": [
       "<div>\n",
       "<style scoped>\n",
       "    .dataframe tbody tr th:only-of-type {\n",
       "        vertical-align: middle;\n",
       "    }\n",
       "\n",
       "    .dataframe tbody tr th {\n",
       "        vertical-align: top;\n",
       "    }\n",
       "\n",
       "    .dataframe thead th {\n",
       "        text-align: right;\n",
       "    }\n",
       "</style>\n",
       "<table border=\"1\" class=\"dataframe\">\n",
       "  <thead>\n",
       "    <tr style=\"text-align: right;\">\n",
       "      <th></th>\n",
       "      <th>stn_dist_to_center_km</th>\n",
       "      <th>four_500_y</th>\n",
       "    </tr>\n",
       "  </thead>\n",
       "  <tbody>\n",
       "    <tr>\n",
       "      <th>0</th>\n",
       "      <td>2.001855</td>\n",
       "      <td>129</td>\n",
       "    </tr>\n",
       "    <tr>\n",
       "      <th>1</th>\n",
       "      <td>1.736349</td>\n",
       "      <td>97</td>\n",
       "    </tr>\n",
       "    <tr>\n",
       "      <th>2</th>\n",
       "      <td>1.592994</td>\n",
       "      <td>184</td>\n",
       "    </tr>\n",
       "    <tr>\n",
       "      <th>3</th>\n",
       "      <td>1.236670</td>\n",
       "      <td>310</td>\n",
       "    </tr>\n",
       "    <tr>\n",
       "      <th>4</th>\n",
       "      <td>1.001732</td>\n",
       "      <td>270</td>\n",
       "    </tr>\n",
       "    <tr>\n",
       "      <th>...</th>\n",
       "      <td>...</td>\n",
       "      <td>...</td>\n",
       "    </tr>\n",
       "    <tr>\n",
       "      <th>118</th>\n",
       "      <td>3.220742</td>\n",
       "      <td>229</td>\n",
       "    </tr>\n",
       "    <tr>\n",
       "      <th>119</th>\n",
       "      <td>2.311878</td>\n",
       "      <td>395</td>\n",
       "    </tr>\n",
       "    <tr>\n",
       "      <th>120</th>\n",
       "      <td>3.477867</td>\n",
       "      <td>160</td>\n",
       "    </tr>\n",
       "    <tr>\n",
       "      <th>121</th>\n",
       "      <td>3.473536</td>\n",
       "      <td>103</td>\n",
       "    </tr>\n",
       "    <tr>\n",
       "      <th>122</th>\n",
       "      <td>3.281873</td>\n",
       "      <td>3</td>\n",
       "    </tr>\n",
       "  </tbody>\n",
       "</table>\n",
       "<p>123 rows × 2 columns</p>\n",
       "</div>"
      ],
      "text/plain": [
       "     stn_dist_to_center_km  four_500_y\n",
       "0                 2.001855         129\n",
       "1                 1.736349          97\n",
       "2                 1.592994         184\n",
       "3                 1.236670         310\n",
       "4                 1.001732         270\n",
       "..                     ...         ...\n",
       "118               3.220742         229\n",
       "119               2.311878         395\n",
       "120               3.477867         160\n",
       "121               3.473536         103\n",
       "122               3.281873           3\n",
       "\n",
       "[123 rows x 2 columns]"
      ]
     },
     "execution_count": 31,
     "metadata": {},
     "output_type": "execute_result"
    }
   ],
   "source": [
    "x = Helsinki_bikestation[['stn_dist_to_center_km','four_500_y']]\n",
    "x"
   ]
  },
  {
   "cell_type": "code",
   "execution_count": 28,
   "metadata": {
    "tags": []
   },
   "outputs": [
    {
     "data": {
      "text/plain": [
       "0      38\n",
       "1      14\n",
       "2      18\n",
       "3      16\n",
       "4      39\n",
       "       ..\n",
       "118    16\n",
       "119    20\n",
       "120    16\n",
       "121    21\n",
       "122    22\n",
       "Name: total_bikes, Length: 123, dtype: int64"
      ]
     },
     "execution_count": 28,
     "metadata": {},
     "output_type": "execute_result"
    }
   ],
   "source": [
    "y = Helsinki_bikestation['total_bikes']\n",
    "y"
   ]
  },
  {
   "cell_type": "markdown",
   "metadata": {},
   "source": [
    "And add the constant to x."
   ]
  },
  {
   "cell_type": "code",
   "execution_count": 34,
   "metadata": {
    "tags": []
   },
   "outputs": [],
   "source": [
    "x = sm.add_constant(x)"
   ]
  },
  {
   "cell_type": "code",
   "execution_count": 36,
   "metadata": {
    "tags": []
   },
   "outputs": [],
   "source": [
    "lin_reg = sm.OLS(y,x)"
   ]
  },
  {
   "cell_type": "code",
   "execution_count": 37,
   "metadata": {
    "tags": []
   },
   "outputs": [
    {
     "name": "stdout",
     "output_type": "stream",
     "text": [
      "                            OLS Regression Results                            \n",
      "==============================================================================\n",
      "Dep. Variable:            total_bikes   R-squared:                       0.011\n",
      "Model:                            OLS   Adj. R-squared:                 -0.006\n",
      "Method:                 Least Squares   F-statistic:                    0.6494\n",
      "Date:                Mon, 23 Oct 2023   Prob (F-statistic):              0.524\n",
      "Time:                        06:59:16   Log-Likelihood:                -470.36\n",
      "No. Observations:                 123   AIC:                             946.7\n",
      "Df Residuals:                     120   BIC:                             955.2\n",
      "Df Model:                           2                                         \n",
      "Covariance Type:            nonrobust                                         \n",
      "=========================================================================================\n",
      "                            coef    std err          t      P>|t|      [0.025      0.975]\n",
      "-----------------------------------------------------------------------------------------\n",
      "const                    28.4220      4.512      6.299      0.000      19.488      37.356\n",
      "stn_dist_to_center_km    -1.4863      1.371     -1.084      0.280      -4.201       1.228\n",
      "four_500_y               -0.0034      0.008     -0.409      0.683      -0.020       0.013\n",
      "==============================================================================\n",
      "Omnibus:                       81.508   Durbin-Watson:                   1.942\n",
      "Prob(Omnibus):                  0.000   Jarque-Bera (JB):              437.233\n",
      "Skew:                           2.347   Prob(JB):                     1.14e-95\n",
      "Kurtosis:                      10.955   Cond. No.                     1.48e+03\n",
      "==============================================================================\n",
      "\n",
      "Notes:\n",
      "[1] Standard Errors assume that the covariance matrix of the errors is correctly specified.\n",
      "[2] The condition number is large, 1.48e+03. This might indicate that there are\n",
      "strong multicollinearity or other numerical problems.\n"
     ]
    }
   ],
   "source": [
    "model = lin_reg.fit()\n",
    "print_model = model.summary()\n",
    "print(print_model)"
   ]
  },
  {
   "cell_type": "markdown",
   "metadata": {},
   "source": [
    "This model does not perform well, and none of the variables of interest are significant within it. Therefore, using this model you cannot\n",
    "predict the size of the bike station based on how many restaurants are 500m from it, nor how close it is to downtown.\n",
    "\n",
    "I assume this is because of the phenomenon I observed earlier, which indicates that larger bike stations are located both inside downtown and outside downtown (you need to park the bike when you get home too), and that the density of restaurants is greater inside the downtown core than outside of it, so those two variables are likely highly correlated."
   ]
  },
  {
   "cell_type": "code",
   "execution_count": 38,
   "metadata": {
    "tags": []
   },
   "outputs": [
    {
     "data": {
      "text/plain": [
       "<Axes: xlabel='total_bikes', ylabel='stn_dist_to_center_km'>"
      ]
     },
     "execution_count": 38,
     "metadata": {},
     "output_type": "execute_result"
    },
    {
     "data": {
      "image/png": "[encoded data removed]",
      "text/plain": [
       "<Figure size 640x480 with 1 Axes>"
      ]
     },
     "metadata": {},
     "output_type": "display_data"
    }
   ],
   "source": [
    "Helsinki_bikestation.plot.scatter('total_bikes', 'stn_dist_to_center_km')"
   ]
  },
  {
   "cell_type": "markdown",
   "metadata": {},
   "source": [
    "Yes, this confirms visually that there is no relationshiop between total bikes at each station and distance from downtown"
   ]
  },
  {
   "cell_type": "code",
   "execution_count": 40,
   "metadata": {
    "tags": []
   },
   "outputs": [
    {
     "data": {
      "text/plain": [
       "<Axes: xlabel='four_500_y', ylabel='total_bikes'>"
      ]
     },
     "execution_count": 40,
     "metadata": {},
     "output_type": "execute_result"
    },
    {
     "data": {
      "image/png": "[encoded data removed]",
      "text/plain": [
       "<Figure size 640x480 with 1 Axes>"
      ]
     },
     "metadata": {},
     "output_type": "display_data"
    }
   ],
   "source": [
    "Helsinki_bikestation.plot.scatter('four_500_y', 'total_bikes')"
   ]
  },
  {
   "cell_type": "code",
   "execution_count": 39,
   "metadata": {
    "tags": []
   },
   "outputs": [
    {
     "data": {
      "text/plain": [
       "<Axes: xlabel='four_500_y', ylabel='stn_dist_to_center_km'>"
      ]
     },
     "execution_count": 39,
     "metadata": {},
     "output_type": "execute_result"
    },
    {
     "data": {
      "image/png": "[encoded data removed]",
      "text/plain": [
       "<Figure size 640x480 with 1 Axes>"
      ]
     },
     "metadata": {},
     "output_type": "display_data"
    }
   ],
   "source": [
    "Helsinki_bikestation.plot.scatter('four_500_y', 'stn_dist_to_center_km')"
   ]
  },
  {
   "cell_type": "markdown",
   "metadata": {},
   "source": [
    "As expected, it does look like there is a relationship between the two 'independent' variables."
   ]
  },
  {
   "cell_type": "markdown",
   "metadata": {},
   "source": [
    "# Stretch"
   ]
  },
  {
   "cell_type": "markdown",
   "metadata": {},
   "source": [
    "How can you turn the regression model into a classification model?"
   ]
  },
  {
   "cell_type": "markdown",
   "metadata": {
    "tags": []
   },
   "source": [
    "Here, you could probably identify whether you were looking at yelp data or foursquare data if you had distance from the center of \n",
    "downtown and the number of bikes within whichever distance using a logistic regression. You'd need to make a dummy variable for 'API'\n",
    "with each case either yes (yelp) or no (FourSquare), and use only one of the columns (ie. either 100m radius or 500m radius, etc.)"
   ]
  },
  {
   "cell_type": "markdown",
   "metadata": {},
   "source": [
    "Because our predictors are not good at predicting anything here in this regression, it would be tough to classify the size of the bike\n",
    "station depending on these variables, but you could do it if you split the bikestations into even categories (small station vs large station) - however you choose to define 'small' and 'large'.                                                                                 "
   ]
  }
 ],
 "metadata": {
  "kernelspec": {
   "display_name": "Python 3 (ipykernel)",
   "language": "python",
   "name": "python3"
  },
  "language_info": {
   "codemirror_mode": {
    "name": "ipython",
    "version": 3
   },
   "file_extension": ".py",
   "mimetype": "text/x-python",
   "name": "python",
   "nbconvert_exporter": "python",
   "pygments_lexer": "ipython3",
   "version": "3.11.5"
  }
 },
 "nbformat": 4,
 "nbformat_minor": 4
}
